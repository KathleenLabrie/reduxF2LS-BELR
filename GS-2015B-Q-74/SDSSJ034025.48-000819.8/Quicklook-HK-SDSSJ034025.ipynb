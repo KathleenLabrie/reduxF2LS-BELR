{
 "metadata": {
  "name": "",
  "signature": "sha256:14c4b5dfcd595020bf08740eeaca63896df1fa4907aa863aeb9c8e3fdbafc724"
 },
 "nbformat": 3,
 "nbformat_minor": 0,
 "worksheets": [
  {
   "cells": [
    {
     "cell_type": "heading",
     "level": 1,
     "metadata": {},
     "source": [
      "F2 Longslit HK Reduction of SDSSJ034025.48-000819.8"
     ]
    },
    {
     "cell_type": "markdown",
     "metadata": {},
     "source": [
      "----\n",
      "Science Dataset:\n",
      "----------------\n",
      "<table>\n",
      "<tr><td> <strong>Redshift</strong> </td> <td>0.6190</td></tr>\n",
      "</table>\n",
      "\n",
      "<table>\n",
      "    <tr><td> <strong>Observation UT date</strong> </td> <td>2015 Aug 27, \\*2015 Sep 4, \\*\\*2015 Sep 5</td></tr>\n",
      "    <tr><td> <strong>Data filename prefix</strong> </td><td>S20150827S, \\*S20150904S, \\*\\*S20150905S</td></tr>\n",
      "</table>\n",
      "<br>\n",
      "**File numbers:**\n",
      "<table>\n",
      "    <tr><td>Science </td>          <td>657-664 (HK, HK, 2pix-slit, 120s)</td></tr>\n",
      "    <tr><td>Darks for science </td><td>\\*\\*37-43 (120s)</td></tr>\n",
      "    <tr><td>Flat </td>             <td>666     (HK, HK, 2pix-slit, 4s)</td></tr>\n",
      "    <tr><td>Darks for flat </td>   <td>\\*83-89 (4s)</td></tr>\n",
      "    <tr><td>Arc </td>              <td>665    (HK, HK, 2pix-slit, 90s)</td></tr>\n",
      "    <tr><td>Darks for arc </td>    <td>\\*167-173 (90s)</td></tr>\n",
      "</table>\n",
      "\n",
      "Telluric Dataset:\n",
      "-----------------\n",
      "<table>\n",
      "<tr><td> Name: </td><td>HIP 16956</td></tr>\n",
      "<tr><td> Spectral Type: </td><td>A1V</td></tr>\n",
      "<tr><td> Temperature: </td><td>$9,145 K$</td></tr>\n",
      "<tr><td> Airmass: </td><td>1.08</td></tr>\n",
      "<tr><td> Airmass Science: </td><td>1.18</td></tr>\n",
      "    <tr><td> Delta Time: </td><td>~15 min. Tel_end=09:02, Sci_beg=09:18 </td></tr>\n",
      "</table>\n",
      "<table>\n",
      "    <tr><td> <strong>Observation UT date</strong> </td> <td>2015 Aug 27, \\*2015 Sep 4</td></tr>\n",
      "    <tr><td> <strong>Data filename prefix</strong> </td><td>S20150827S, \\*S20150904S</td></tr>\n",
      "</table>\n",
      "\n",
      "**File numbers:**\n",
      "<table>\n",
      "    <tr><td>Telluric (HIP 16956) </td><td>642-645 (HK, HK, 2pix-slit, 15s)</td></tr>\n",
      "    <tr><td>Darks for telluric </td> <td>\\*118-124 (15s)</td></tr>\n",
      "    <tr><td>Flat </td>               <td>666     (HK, HK, 2pix-slit, 4s)</td></tr>\n",
      "    <tr><td>Darks for flat </td>     <td>\\*83-89 (4s)</td></tr>\n",
      "    <tr><td>Arc </td>                <td>646     (HK, HK, 2pix-slit, 90s)</td></tr>\n",
      "    <tr><td>Darks for arc </td>      <td>\\*167-173 (90s)</td></tr>\n",
      "</table>\n",
      "\n",
      "----"
     ]
    },
    {
     "cell_type": "heading",
     "level": 2,
     "metadata": {},
     "source": [
      "STEP 0: Define variables specific to this target and start parallel PyRAF session."
     ]
    },
    {
     "cell_type": "code",
     "collapsed": false,
     "input": [
      "import os\n",
      "# UPDATE DATE IN REDUX_DIR\n",
      "#redux_dir = '/Users/ckenyon/Gemini/GS-2013B-Q-73/SDSSJ232652.96-003012.6/20131203-05Mar2015/reduxHK'\n",
      "redux_dir = '/Volumes/MyRugged/research/BELR/GS-2015B-Q-74/SDSSJ034025.48-000819.8/quicklook/reduxHK'\n",
      "os.chdir(redux_dir)\n",
      "\n",
      "logfile = \"HK034025.log\"\n",
      "database = \"HK034025_database/\"\n",
      "raw_data_path = \"../../../raw/\"\n",
      "flatroot = \"S20150827S\" ; flats = \"666\"\n",
      "flatdarkroot = \"S20150904S\" ; flatdarks = \"83-89\"\n",
      "arcroot = \"S20150827S\" ; arcs = \"665\"\n",
      "arcdarkroot = \"S20150904S\" ; arcdarks = \"167-173\"\n",
      "objroot = \"S20150827S\" ; objs = \"657-664\"\n",
      "objdarkroot = \"S20150905S\" ; objdarks = \"37-43\"\n",
      "telroot = \"S20150827S\" ; tels = \"642-645\"\n",
      "teldarkroot = \"S20150904S\" ; teldarks = \"118-124\"\n",
      "telarcroot = \"S20150827S\" ; telarcs = \"646\"\n",
      "telarcdarkroot = \"S20150904S\" ; telarcdarks = \"167-173\"\n",
      "\n",
      "lxorder=3 ; lyorder=8  # used by nsfitcoords.  \n",
      "                       # Values are determine in Step 8."
     ],
     "language": "python",
     "metadata": {},
     "outputs": [],
     "prompt_number": 1
    },
    {
     "cell_type": "heading",
     "level": 4,
     "metadata": {},
     "source": [
      "Now get a PyRAF session ready.  This will be needed for some interactive tasks that don't work well in the notebook. "
     ]
    },
    {
     "cell_type": "markdown",
     "metadata": {},
     "source": [
      "Open an xterm or a Terminal, then:\n",
      "\n",
      "\n",
      "UPDATE DATE HERE TOO\n",
      "\n",
      "    cd '/Volumes/MyRugged/research/BELR/GS-2015B-Q-74/SDSSJ034025.48-000819.8/quicklook/reduxHK'\n",
      "    pyraf"
     ]
    },
    {
     "cell_type": "markdown",
     "metadata": {},
     "source": [
      "Then in the PyRAF session:\n",
      "\n",
      "    gemini\n",
      "    f2\n",
      "    unlearn gemini\n",
      "    unlearn f2\n",
      "    unlearn gnirs\n",
      "    unlearn gemtools"
     ]
    },
    {
     "cell_type": "markdown",
     "metadata": {},
     "source": [
      "Get your PyRAF configured.  In the PyRAF session:\n",
      "\n",
      "    iraf.f2.logfile = \"HK034025.log\"\n",
      "    iraf.f2.database = \"HK034025_database/\"\n",
      "    set rawdir = \"../../../raw/\"\n",
      "    set stdimage=imt2048\n",
      "    nsheaders('f2', logfile=iraf.f2.logfile)"
     ]
    },
    {
     "cell_type": "heading",
     "level": 2,
     "metadata": {},
     "source": [
      "STEP 1: Initialize the required packages"
     ]
    },
    {
     "cell_type": "heading",
     "level": 4,
     "metadata": {},
     "source": [
      "Launch ds9 before proceeding further."
     ]
    },
    {
     "cell_type": "heading",
     "level": 4,
     "metadata": {},
     "source": [
      "Load the packages required for the notebook session."
     ]
    },
    {
     "cell_type": "code",
     "collapsed": false,
     "input": [
      "from pyraf import iraf\n",
      "iraf.gemini()\n",
      "iraf.f2()"
     ],
     "language": "python",
     "metadata": {},
     "outputs": [
      {
       "output_type": "stream",
       "stream": "stdout",
       "text": [
        "This is the initial release of the IRAF FITSUTIL package\n",
        "to include support for FITS tile compression via 'fpack'.\n",
        "Please send comments and questions to seaman@noao.edu.\n",
        "\n",
        " \n",
        "     +------------------- Gemini IRAF Package -------------------+\n",
        "     |             Version 1.13.1, December 7, 2015              |\n",
        "     |             Requires IRAF v2.14.1 or greater              |\n",
        "     |              Tested with Ureka IRAF v2.16                 |\n",
        "     |             Gemini Observatory, Hilo, Hawaii              |\n",
        "     |    Please use the help desk for submission of questions   |\n",
        "     |  http://www.gemini.edu/sciops/helpdesk/helpdeskIndex.html |\n",
        "     +-----------------------------------------------------------+\n",
        " \n",
        "     Warning setting imtype=fits\n",
        "     Warning setting use_new_imt=no\n",
        " \n",
        "gemini/:\n",
        " f2/            gemtools/       gsaoi/          niri/\n",
        " flamingos/     gmos/           midir/          oscir/\n",
        " gemlocal/      gnirs/          nifs/           quirc/\n"
       ]
      },
      {
       "output_type": "stream",
       "stream": "stdout",
       "text": [
        "\n",
        "Loading the gnirs package:\n",
        "gnirs/:\n",
        " gnirsexamples  nfquick         nsextract       nsressky        nswedit\n",
        " gnirsinfo      nsacresid       nsfitcoords     nssdist         nvnoise\n",
        " gnirsinfoifu   nsappwave       nsflat          nsslitfunction  nxdisplay\n",
        " gnirsinfols    nscalibrate     nsheaders       nsstack\n",
        " gnirsinfoxd    nscombine       nsoffset        nstelluric\n",
        " nfcube         nscut           nsprepare       nstransform\n",
        " nfflt2pin      nsedge          nsreduce        nswavelength\n",
        "\n",
        "Loading the niri package:\n",
        "niri/:\n",
        " nifastsky      nireduce        niriinfo        nisky           nprepare\n",
        " niflat         niriexamples    nirotate        nisupersky      nresidual\n",
        "\n",
        "Loading the f2 package:\n",
        "f2/:\n",
        " f2cut          f2examples      f2infoimaging   f2infomos\n",
        " f2display      f2info          f2infols        f2prepare\n"
       ]
      }
     ],
     "prompt_number": 2
    },
    {
     "cell_type": "markdown",
     "metadata": {},
     "source": [
      "Reset tasks to the default parameters.  (Note: this doesn't seem to be working from the Python shell.)"
     ]
    },
    {
     "cell_type": "code",
     "collapsed": false,
     "input": [
      "iraf.unlearn(iraf.gemini, iraf.f2, iraf.gnirs, iraf.gemtools)"
     ],
     "language": "python",
     "metadata": {},
     "outputs": [],
     "prompt_number": 3
    },
    {
     "cell_type": "heading",
     "level": 2,
     "metadata": {},
     "source": [
      "STEP 2: Define various parameters and variables."
     ]
    },
    {
     "cell_type": "code",
     "collapsed": false,
     "input": [
      "iraf.f2.logfile = logfile\n",
      "iraf.f2.database = database\n",
      "rawdir = raw_data_path\n",
      "iraf.set(stdimage='imt2048')\n",
      "\n",
      "iraf.nsheaders('f2', logfile=iraf.f2.logfile)"
     ],
     "language": "python",
     "metadata": {},
     "outputs": [
      {
       "output_type": "stream",
       "stream": "stdout",
       "text": [
        "------------------------------------------------------------------------------\n"
       ]
      },
      {
       "output_type": "stream",
       "stream": "stdout",
       "text": [
        "NSHEADERS -- Wed Feb 10 14:58:14 HST 2016\n",
        "\n"
       ]
      },
      {
       "output_type": "stream",
       "stream": "stdout",
       "text": [
        "setting header keywords\n",
        "setting niflat.thresh_flo, niflat.thresh_fup, niflat.thresh_dlo,\n",
        "   and niflat.thresh_dup.\n",
        "setting niflat.statsec\n",
        "setting nifastsky.statsec\n",
        "setting nisky.statsec\n",
        "setting nireduce.statsec\n",
        "setting nsflat.statsec and fitsec\n",
        "setting nswavelength.coordlist, nswavelength.threshold, and\n",
        "   nswavelength.fl_median.\n",
        "setting the default logfile\n",
        "setting the default database\n"
       ]
      }
     ],
     "prompt_number": 4
    },
    {
     "cell_type": "markdown",
     "metadata": {},
     "source": [
      "*If necessary to start from scratch, delete the log file and the database.*"
     ]
    },
    {
     "cell_type": "code",
     "collapsed": false,
     "input": [
      "if (iraf.access(iraf.f2.logfile)):\n",
      "    iraf.delete(iraf.f2.logfile, verify='no')\n",
      "if (iraf.access(iraf.f2.database)):\n",
      "    iraf.delete(iraf.f2.database + '*', verify='no')"
     ],
     "language": "python",
     "metadata": {},
     "outputs": []
    },
    {
     "cell_type": "heading",
     "level": 2,
     "metadata": {},
     "source": [
      "STEP 3: Create the reduction lists"
     ]
    },
    {
     "cell_type": "code",
     "collapsed": false,
     "input": [
      "iraf.delete('flat.lis, flatdark.lis, arc.lis, arcdark.lis, obj.lis, objdark.lis, \\\n",
      "    tel.lis, teldark.lis, telarc.lis, telarcdark.lis', verify='no')\n",
      "\n",
      "iraf.gemlist(flatroot, flats, Stdout='flat.lis')\n",
      "iraf.gemlist(flatdarkroot, flatdarks, Stdout='flatdark.lis')\n",
      "iraf.gemlist(arcroot, arcs, Stdout='arc.lis')\n",
      "iraf.gemlist(arcdarkroot, arcdarks, Stdout='arcdark.lis')\n",
      "iraf.gemlist(objroot, objs, Stdout='obj.lis')\n",
      "iraf.gemlist(objdarkroot, objdarks, Stdout='objdark.lis')\n",
      "iraf.gemlist(telroot, tels, Stdout='tel.lis')\n",
      "iraf.gemlist(teldarkroot, teldarks, Stdout='teldark.lis')\n",
      "iraf.gemlist(telarcroot, telarcs, Stdout='telarc.lis')\n",
      "iraf.gemlist(telarcdarkroot, telarcdarks, Stdout='telarcdark.lis')\n",
      "\n",
      "iraf.concat('flat.lis, flatdark.lis, arc.lis, arcdark.lis, obj.lis, objdark.lis, \\\n",
      "    tel.lis, teldark.lis, telarc.lis, telarcdark.lis', 'all.lis')\n",
      "\n",
      "# remove duplicates\n",
      "all_file = open('all.lis', 'r')\n",
      "all_lines = all_file.readlines()\n",
      "all_file.close()\n",
      "lines_seen = list()\n",
      "for line in all_lines:\n",
      "    if line not in lines_seen:\n",
      "        lines_seen.append(line)\n",
      "all_file = open('all.lis', 'w')\n",
      "all_file.writelines(lines_seen)\n",
      "all_file.close()\n"
     ],
     "language": "python",
     "metadata": {},
     "outputs": [
      {
       "output_type": "stream",
       "stream": "stderr",
       "text": [
        "Warning: Cannot delete file (flat.lis)\n"
       ]
      },
      {
       "output_type": "stream",
       "stream": "stderr",
       "text": [
        "Warning: Cannot delete file (flatdark.lis)\n"
       ]
      },
      {
       "output_type": "stream",
       "stream": "stderr",
       "text": [
        "Warning: Cannot delete file (arc.lis)\n"
       ]
      },
      {
       "output_type": "stream",
       "stream": "stderr",
       "text": [
        "Warning: Cannot delete file (arcdark.lis)\n"
       ]
      },
      {
       "output_type": "stream",
       "stream": "stderr",
       "text": [
        "Warning: Cannot delete file (obj.lis)\n"
       ]
      },
      {
       "output_type": "stream",
       "stream": "stderr",
       "text": [
        "Warning: Cannot delete file (objdark.lis)\n"
       ]
      },
      {
       "output_type": "stream",
       "stream": "stderr",
       "text": [
        "Warning: Cannot delete file (tel.lis)\n"
       ]
      },
      {
       "output_type": "stream",
       "stream": "stderr",
       "text": [
        "Warning: Cannot delete file (teldark.lis)\n"
       ]
      },
      {
       "output_type": "stream",
       "stream": "stderr",
       "text": [
        "Warning: Cannot delete file (telarc.lis)\n"
       ]
      },
      {
       "output_type": "stream",
       "stream": "stderr",
       "text": [
        "Warning: Cannot delete file (telarcdark.lis)\n"
       ]
      }
     ],
     "prompt_number": 5
    },
    {
     "cell_type": "heading",
     "level": 2,
     "metadata": {},
     "source": [
      "STEP 4: Visually inspect the data"
     ]
    },
    {
     "cell_type": "code",
     "collapsed": false,
     "input": [
      "all_file = open('all.lis', 'r')\n",
      "for line in all_file:\n",
      "    image = line.strip() + '[1]'\n",
      "    print image\n",
      "    iraf.display(rawdir + image, 1)\n",
      "    iraf.sleep(5)\n",
      "    \n",
      "all_file.close()"
     ],
     "language": "python",
     "metadata": {},
     "outputs": []
    },
    {
     "cell_type": "heading",
     "level": 2,
     "metadata": {},
     "source": [
      "STEP 5: f2prepare all the data"
     ]
    },
    {
     "cell_type": "code",
     "collapsed": false,
     "input": [
      "iraf.imdelete('f@all.lis', verify='no')\n",
      "iraf.f2prepare('@all.lis', rawpath=rawdir, fl_vardq='yes', fl_correct='yes', \\\n",
      "               fl_saturated='yes', fl_nonlinear='yes')"
     ],
     "language": "python",
     "metadata": {},
     "outputs": []
    },
    {
     "cell_type": "heading",
     "level": 2,
     "metadata": {},
     "source": [
      "STEP 6:  Create the necessary dark frames"
     ]
    },
    {
     "cell_type": "code",
     "collapsed": false,
     "input": [
      "iraf.delete('fflatdark.lis', verify='no')\n",
      "iraf.imdelete('flatdark.fits', verify='no')\n",
      "iraf.sections('f@flatdark.lis', Stdout='fflatdark.lis')\n",
      "iraf.gemcombine('@fflatdark.lis', 'flatdark.fits', combine='average', \\\n",
      "    fl_vardq='yes', logfile=iraf.f2.logfile)\n",
      "\n",
      "iraf.delete('farcdark.lis', verify='no')\n",
      "iraf.imdelete('arcdark.fits', verify='no')\n",
      "iraf.sections('f@arcdark.lis', Stdout='farcdark.lis')\n",
      "iraf.gemcombine('@farcdark.lis', 'arcdark.fits', combine='average', \\\n",
      "    fl_vardq='yes', logfile=iraf.f2.logfile)\n",
      "\n",
      "iraf.delete('fobjdark.lis', verify='no')\n",
      "iraf.imdelete('objdark.fits', verify='no')\n",
      "iraf.sections('f@objdark.lis', Stdout='fobjdark.lis')\n",
      "iraf.gemcombine('@fobjdark.lis', 'objdark.fits', combine='average', \\\n",
      "    fl_vardq='yes', logfile=iraf.f2.logfile)\n",
      "\n",
      "iraf.delete('fteldark.lis', verify='no')\n",
      "iraf.imdelete('teldark.fits', verify='no')\n",
      "iraf.sections('f@teldark.lis', Stdout='fteldark.lis')\n",
      "iraf.gemcombine('@fteldark.lis', 'teldark.fits', combine='average', \\\n",
      "    fl_vardq='yes', logfile=iraf.f2.logfile)\n",
      "\n",
      "iraf.delete('ftelarcdark.lis', verify='no')\n",
      "iraf.imdelete('telarcdark.fits', verify='no')\n",
      "iraf.sections('f@telarcdark.lis', Stdout='ftelarcdark.lis')\n",
      "iraf.gemcombine('@ftelarcdark.lis', 'telarcdark.fits', combine='average', \\\n",
      "    fl_vardq='yes', logfile=iraf.f2.logfile)\n"
     ],
     "language": "python",
     "metadata": {},
     "outputs": []
    },
    {
     "cell_type": "heading",
     "level": 2,
     "metadata": {},
     "source": [
      "STEP 7:  Create the normalized flat field and BPM."
     ]
    },
    {
     "cell_type": "heading",
     "level": 3,
     "metadata": {},
     "source": [
      "Subtract the dark from the flat images then cut"
     ]
    },
    {
     "cell_type": "code",
     "collapsed": false,
     "input": [
      "iraf.imdelete ('df@flat.lis', verify='no')\n",
      "\n",
      "file = open('flat.lis', 'r')\n",
      "for line in file:\n",
      "\timage = line.strip()\n",
      "\tiraf.gemarith ('f' + image, '-', 'flatdark.fits', 'df' + image, \\\n",
      "\t\tfl_vardq='yes', logfile=iraf.f2.logfile)\n",
      "\n",
      "file.close()\n",
      "\n",
      "iraf.imdelete ('cdf@flat.lis', verify='no')\n",
      "iraf.f2cut ('df@flat.lis')"
     ],
     "language": "python",
     "metadata": {},
     "outputs": []
    },
    {
     "cell_type": "heading",
     "level": 3,
     "metadata": {},
     "source": [
      "Construct the normalised flat field.  "
     ]
    },
    {
     "cell_type": "markdown",
     "metadata": {},
     "source": [
      "The flats are derived from images taken with the calibration unit (GCAL) shutter open (\"lamps-on\").  It is recommended to run <code>nsflat</code> interactively to ensure a good fit of the lamp's profile.\n",
      "\n",
      "The fit order must be high enough to fit the lamp's profile but not too high since we do not want to fit the variations due to the pixel to pixel variation.  For the HK filter, the fit should look like in the screenshots below.  Note that in the zoomed plot, the fit matches the overall profile, not the high frequency variations.\n",
      "\n",
      "The overall fit:\n",
      "\n",
      "![QL-HK-nsflat_fit](../screenshots/QL-HK-nsflat_fit.png)\n",
      "\n",
      "<br \\>\n",
      "Zooming in to confirm that the high frequency signal is not being fit:  \n",
      "\n",
      "![QL-HK-nsflat_fit_zoom](../screenshots/QL-HK-nsflat_fit_zoom.png)"
     ]
    },
    {
     "cell_type": "markdown",
     "metadata": {},
     "source": [
      "If the order needs to be changed, the <code>:order</code> command will be required and that does not work well in the iPython notebook.  So copy the following to the PyRAF we prepared earlier, and find a good fit.\n",
      "\n",
      "    iraf.imdelete('flat.fits,f2_ls_bpm.pl', verify='no')\n",
      "    iraf.nsflat('cdf@flat.lis', flatfile='flat.fits', \\\n",
      "        bpmfile='f2_ls_bpm.pl', thr_flo=0.35, thr_fup=3.0, \\\n",
      "        fl_inter='yes', order=120)\n",
      "        "
     ]
    },
    {
     "cell_type": "heading",
     "level": 2,
     "metadata": {},
     "source": [
      "STEP 8:  Reduce the science arc and determine the wavelength solution"
     ]
    },
    {
     "cell_type": "markdown",
     "metadata": {},
     "source": [
      "The wavelength solution is derived from an arc taken right after the science observation, before anything is moved (eg. grating, slit, etc.)\n",
      "\n",
      "We will reduce the arc and calculate the wavelength solution as this is what we will surely be using for the science observations.\n",
      "\n",
      "The wavelength solution step really should be done in interactive mode as it is not uncommon to have to reject lines and/or adjust the matches with the line list."
     ]
    },
    {
     "cell_type": "heading",
     "level": 3,
     "metadata": {},
     "source": [
      "Reduce the science arc"
     ]
    },
    {
     "cell_type": "code",
     "collapsed": false,
     "input": [
      "# Subtract the dark from the arc images prior to cutting and flat dividing.\n",
      "\n",
      "iraf.imdelete('df@arc.lis', verify='no')\n",
      "iraf.nsreduce('f@arc.lis', outprefix='d', fl_cut='no', fl_process_cut='no', \\\n",
      "    fl_dark='yes', darkimage='arcdark.fits', fl_sky='no', fl_flat='no')\n",
      "\n",
      "# Cut the arc images and divide by the normalised flat field image.\n",
      "\n",
      "iraf.imdelete('rdf@arc.lis', verify='no')\n",
      "iraf.nsreduce('df@arc.lis', fl_cut='yes', fl_dark='no', fl_sky='no', fl_flat='yes', \\\n",
      "    flatimage='flat.fits')\n",
      "\n",
      "# Combine the arc files (if there is more than one arc file)\n",
      "\n",
      "iraf.imdelete('arc.fits', verify='no')\n",
      "iraf.delete('rdfarc.lis', verify='no')\n",
      "iraf.sections('rdf@arc.lis//.fits', Stdout='rdfarc.lis')\n",
      "\n",
      "count = 0\n",
      "file = open('arc.lis', 'r')\n",
      "for line in file:\n",
      "\tcount += 1\n",
      "\n",
      "if count == 1:\n",
      "\tiraf.copy ('@rdfarc.lis', 'arc.fits')\n",
      "else:\n",
      "\tiraf.gemcombine ('@rdfarc.lis', 'arc.fits', fl_vardq='yes')\n",
      "\n",
      "file.close()\n",
      "print 'Done'"
     ],
     "language": "python",
     "metadata": {},
     "outputs": []
    },
    {
     "cell_type": "heading",
     "level": 3,
     "metadata": {},
     "source": [
      "Determine the wavelength solution from the science arc"
     ]
    },
    {
     "cell_type": "markdown",
     "metadata": {},
     "source": [
      "Normally, the lines will be identified automatically and this step, while interactive is used to delete a couple outliers and visually confirm that the fit is good.\n",
      "\n",
      "If, for some reason (it can happen), the lines do not get identified automatically and they need to be marked manually, you will need to run the two commands below in the PyRAF sessions since you will need full interactive support.  But most of the time, running this in the notebook works okay."
     ]
    },
    {
     "cell_type": "code",
     "collapsed": false,
     "input": [
      "iraf.imdelete ('warc.fits', verify='no')\n",
      "iraf.nswavelength ('arc.fits', fl_inter='yes', order=8)\n",
      "\n",
      "# Be very careful when fitting the turnover around 21000.  \n",
      "# There's something not quite right with this solution, but sufficient for quicklook."
     ],
     "language": "python",
     "metadata": {},
     "outputs": []
    },
    {
     "cell_type": "heading",
     "level": 2,
     "metadata": {},
     "source": [
      "Test recovery of a calibrated arc"
     ]
    },
    {
     "cell_type": "markdown",
     "metadata": {},
     "source": [
      "Confirm that applying the wavelength solution to the arc itself recovers a correctly wavelength-calibrated arc.  The key step is **<code>nsfitcoords</code>**.  The default **<code>lxorder</code>** and **<code>lyorder</code>** are both set to 2 which doesn't seem to be correct.  Running **<code>nsfitcoords</code>** interactively on the arc will allow us to discover the best **<code>lxorder</code>** and **<code>lyorder</code>** for this wavelength solution, and use that as a starting point later when using the arc wavelength solution (**<code>warc.fits</code>**) on the telluric and the science."
     ]
    },
    {
     "cell_type": "markdown",
     "metadata": {},
     "source": [
      "Cut and paste these instructions in the PyRAF session that we prepared in Step 0. \n",
      "\n",
      "    iraf.imdelete('farc.fits', verify='no')\n",
      "    iraf.nsfitcoords('arc.fits', lamptransf='warc.fits', fl_inter='yes')\n",
      "    # Note down the xorder and yorder needed for a good fit.  Use\n",
      "    # that whenever warc.fits is used by nsfitcoords.\n",
      "    # :xorder 3, :yorder 8\n",
      "\n",
      "\n",
      "The yorder is probably a bit high, but it definitely removes any trace of a wave pattern..."
     ]
    },
    {
     "cell_type": "markdown",
     "metadata": {},
     "source": [
      "Record the lxorder and lyorder in the notebook session for future use."
     ]
    },
    {
     "cell_type": "code",
     "collapsed": false,
     "input": [
      "lxorder=3 ; lyorder=8"
     ],
     "language": "python",
     "metadata": {},
     "outputs": []
    },
    {
     "cell_type": "code",
     "collapsed": false,
     "input": [
      "iraf.imdelete('tfarc.fits', verify='no')\n",
      "iraf.nstransform('farc.fits')\n",
      "iraf.display('tfarc.fits[sci,1]', 1)"
     ],
     "language": "python",
     "metadata": {},
     "outputs": []
    },
    {
     "cell_type": "code",
     "collapsed": false,
     "input": [
      "# display the first telluric to identify on which column the spectrum falls in\n",
      "# the A position.\n",
      "first_tel = iraf.head('tel.lis', nlines=1, Stdout=1)[0].strip()\n",
      "iraf.display('f'+first_tel+'[1]', 1)"
     ],
     "language": "python",
     "metadata": {},
     "outputs": []
    },
    {
     "cell_type": "code",
     "collapsed": false,
     "input": [
      "# UPDATE POSITION OF TELLURIC\n",
      "# position of the telluric is column 951 (around the center of the frame)\n",
      "iraf.tel_position = 951"
     ],
     "language": "python",
     "metadata": {},
     "outputs": []
    },
    {
     "cell_type": "code",
     "collapsed": false,
     "input": [
      "iraf.splot('tfarc.fits[sci,1]', line=iraf.tel_position, options=\"auto wreset flip\")"
     ],
     "language": "python",
     "metadata": {},
     "outputs": []
    },
    {
     "cell_type": "markdown",
     "metadata": {},
     "source": [
      "Check that the arc lines are at the correct wavelength. Use '<code>k</code>' on each side of the a line to get the centroid. Then compare with the line list and the diagrams.\n",
      "\n",
      "Resource:  \n",
      "    http://www.gemini.edu/sciops/instruments/niri/?q=node/10166\n",
      "\n",
      "The NIRI plots from that webpage work well.\n",
      "\n",
      "*Result: (Kathleen)\n",
      "The arc gets transformed correctly with lxorder=3, lyorder=8.  Just quicklook for now, I have not looked carefully at the blue and red end, and I have not looked for an absolute offset. "
     ]
    },
    {
     "cell_type": "heading",
     "level": 2,
     "metadata": {},
     "source": [
      "STEP 9: Reduce the science data"
     ]
    },
    {
     "cell_type": "code",
     "collapsed": false,
     "input": [
      "iraf.imdelete('df@obj.lis', verify='no')\n",
      "iraf.nsreduce('f@obj.lis', outprefix='d', fl_cut='no', fl_process_cut='no', \\\n",
      "    fl_dark='yes', darkimage='objdark.fits', fl_sky='no', fl_flat='no')\n",
      "\n",
      "iraf.imdelete('rdf@obj.lis', verify='no')\n",
      "iraf.nsreduce('df@obj.lis', fl_cut='yes', fl_dark='no', fl_sky='yes', \\\n",
      "    fl_flat='yes', flatimage='flat.fits')"
     ],
     "language": "python",
     "metadata": {},
     "outputs": []
    },
    {
     "cell_type": "heading",
     "level": 2,
     "metadata": {},
     "source": [
      "STEP 10: Combine the science data"
     ]
    },
    {
     "cell_type": "markdown",
     "metadata": {},
     "source": [
      "The <code>rejtype</code> is set to <code>minmax</code> in the example included in the Gemini IRAF package.  Kathleen finds that for faint targets, that does not work at all.  Therefore, here we set <code>rejtype</code> to <code>none</code> which seems to work well."
     ]
    },
    {
     "cell_type": "code",
     "collapsed": false,
     "input": [
      "iraf.imdelete('obj_comb.fits', verify='no')\n",
      "iraf.nscombine('rdf@obj.lis', output='obj_comb.fits', fl_shiftint='no', \\\n",
      "    fl_cross='no', rejtype='none')\n",
      "\n",
      "iraf.display('obj_comb.fits[SCI,1]', 1)"
     ],
     "language": "python",
     "metadata": {},
     "outputs": []
    },
    {
     "cell_type": "heading",
     "level": 2,
     "metadata": {},
     "source": [
      "STEP 11: Wavelength calibrate the science data"
     ]
    },
    {
     "cell_type": "markdown",
     "metadata": {},
     "source": [
      "It is assumed that the arc has been taken right after (or before) the science observations, without anything moving in-between, other than getting the arc in the field of view.  \n",
      "\n",
      "While the OH sky lines could be used, the coverage is not always adequate across the dispersion axis and the sky lines tend to be a bit broader than the arc lines. \n",
      "\n",
      "-------------\n",
      "**FOR SCIENCE REDUCTION, NOT QUICKLOOK**\n",
      "\n",
      "We will nevertheless double-check that the arc works well on the science observation.  To that end, we will use a science frame that has not been sky subtracted yet, and apply the arc solution.  We will measure the OH sky lines to confirm that they fall where they are supposed to fall.  If this test passes, then we will apply the arc solution to the combined science frame from Step 10.\n",
      "\n",
      "(It should pass.  If it doesn't, something is really wrong with the data and one might have to use the OH sky lines for the wavelength calibration after all.)\n",
      "\n",
      "The key tasks used for this step are:\n",
      "\n",
      "* nsfitcoords:  Used to determine the final 2-D surface solution, based on a previously calculated wavelength solution, to be applied to the data.\n",
      "* nstransform:  Actually applies the 2-D solution found by nsfitcoords to the data.\n",
      "\n",
      "Spatial rectification (s-distortion correction) is not usually needed with F2 longslit data."
     ]
    },
    {
     "cell_type": "heading",
     "level": 4,
     "metadata": {},
     "source": [
      "NOT FOR QL: Test accuracy of the wavelength solution the sky lines."
     ]
    },
    {
     "cell_type": "markdown",
     "metadata": {},
     "source": [
      "We reduce the first science frame but without the sky subtraction."
     ]
    },
    {
     "cell_type": "code",
     "collapsed": false,
     "input": [
      "first_obj = iraf.head('obj.lis', nlines=1, Stdout=1)[0].strip()\n",
      "iraf.imdelete('Xdf'+first_obj, verify='no')\n",
      "iraf.nsreduce('df'+first_obj, outprefix='X', fl_cut='yes', fl_dark='no', \\\n",
      "              fl_sky='no', fl_flat='yes', flatimage='flat.fits')\n",
      "iraf.display('Xdf'+first_obj+'[sci,1]', 1)\n",
      "# confirm that the sky lines are strong enough."
     ],
     "language": "python",
     "metadata": {},
     "outputs": []
    },
    {
     "cell_type": "markdown",
     "metadata": {},
     "source": [
      "We apply the arc solution on the frame with the sky lines."
     ]
    },
    {
     "cell_type": "code",
     "collapsed": false,
     "input": [
      "iraf.imdelete('fXdf'+first_obj, verify='no')\n",
      "iraf.nsfitcoords ('Xdf'+first_obj, lamptransf='warc.fits', lxorder=lxorder, lyorder=lyorder)\n",
      "\n",
      "iraf.imdelete('tfXdf'+first_obj, verify='no')\n",
      "iraf.nstransform('fXdf'+first_obj)"
     ],
     "language": "python",
     "metadata": {},
     "outputs": []
    },
    {
     "cell_type": "markdown",
     "metadata": {},
     "source": [
      "Use <code>splot</code> to measure the wavelength of the sky lines in the corrected telluric.  Do this in the pyraf session, not in the notebook."
     ]
    },
    {
     "cell_type": "markdown",
     "metadata": {},
     "source": [
      "    first_obj = iraf.head('obj.lis', nlines=1, Stdout=1)[0].strip()\n",
      "    iraf.splot ('tfXdf'+first_obj+'[sci,1]', line=750)\n",
      "    # line=750 is just somewhere in the middle.\n",
      "    # :nsum 30\n",
      "    # Use 'k' again and sky line plots and lists to check position\n",
      "    #  of the sky lines.\n",
      "    \n",
      "Resources:  \n",
      "[http://www.ukirt.hawaii.edu/astronomy/calib/spec_cal/oh.html](http://www.ukirt.hawaii.edu/astronomy/calib/spec_cal/oh.html)  \n",
      "[http://www.ukirt.hawaii.edu/astronomy/calib/spec_cal/ohlines.html](http://www.ukirt.hawaii.edu/astronomy/calib/spec_cal/ohlines.html)  \n"
     ]
    },
    {
     "cell_type": "markdown",
     "metadata": {},
     "source": [
      "** TO EDIT WITH CURRENT RESULT **\n",
      "\n",
      "Verifications of the OH lines in the H-band section and the K-band section show that the lines do show up at the correct wavelength after the transformation, average 0.5 Angstrom with stddev 1.8 (and on abs(delta) 1.5 stddev 1.1).  **We can use the arc.**\n",
      "\n",
      "Note that beyond 21900 Angstrom, the fit differs by > 3 Angstrom.  The lines in that area are atrociously asymmetric."
     ]
    },
    {
     "cell_type": "heading",
     "level": 4,
     "metadata": {},
     "source": [
      "Apply the wavelength solution from the arc to the combined science frame."
     ]
    },
    {
     "cell_type": "code",
     "collapsed": false,
     "input": [
      "iraf.imdelete('fobj_comb.fits', verify='no')\n",
      "iraf.nsfitcoords('obj_comb.fits', lamptransf='warc.fits', lxorder=lxorder, lyorder=lyorder)\n",
      "\n",
      "iraf.imdelete('tfobj_comb.fits', verify='no')\n",
      "iraf.nstransform('fobj_comb.fits')"
     ],
     "language": "python",
     "metadata": {},
     "outputs": []
    },
    {
     "cell_type": "heading",
     "level": 2,
     "metadata": {},
     "source": [
      "STEP 12: Extract the science spectrum"
     ]
    },
    {
     "cell_type": "markdown",
     "metadata": {},
     "source": [
      "For faint science spectra, the telluric can be used as a reference when extracting the science spectrum; set <code>trace=tftel_comb.fits</code>.  Note that you will need to reduce the telluric first (Steps ??-??).\n",
      "\n",
      "Continue below if the science spectrum is strong enough to be traced.  (The most common case.)"
     ]
    },
    {
     "cell_type": "code",
     "collapsed": false,
     "input": [
      "iraf.display('tfobj_comb.fits[sci,1]', 1)"
     ],
     "language": "python",
     "metadata": {},
     "outputs": []
    },
    {
     "cell_type": "markdown",
     "metadata": {},
     "source": [
      "Can see a nice signal on the 2D image."
     ]
    },
    {
     "cell_type": "markdown",
     "metadata": {},
     "source": [
      "For this extraction, one needs to:\n",
      "1. delete, '`d`', the aperture automatically selected.  It selects some random spike at the far left of the cross-section.\n",
      "1. mark, '`m`', the real location of the science spectrum, around column 956.\n",
      "1. adjust with '`u`' and '`l`', the width of the aperture, it seems a bit too wide."
     ]
    },
    {
     "cell_type": "code",
     "collapsed": false,
     "input": [
      "iraf.imdelete('xtfobj_comb.fits', verify='no')\n",
      "iraf.nsextract('tfobj_comb.fits', fl_apall='yes', fl_findneg='no', \\\n",
      "               fl_inter='yes', fl_trace='yes')\n",
      "\n",
      "iraf.splot('xtfobj_comb.fits[SCI,1]')"
     ],
     "language": "python",
     "metadata": {},
     "outputs": []
    },
    {
     "cell_type": "heading",
     "level": 4,
     "metadata": {},
     "source": [
      "The F2 IRAF package does not clean up the WCS properly.  We do this now."
     ]
    },
    {
     "cell_type": "code",
     "collapsed": false,
     "input": [
      "iraf.hedit('xtfobj_comb.fits[sci,1]', 'CD2_2', delete='yes',\\\n",
      "            verify='no',update='yes')\n",
      "iraf.hedit('xtfobj_comb.fits[sci,1]', 'CTYPE2', delete='yes',\\\n",
      "           verify='no',update='yes')\n",
      "iraf.hedit('xtfobj_comb.fits[sci,1]', 'LTM2_2', delete='yes',\\\n",
      "           verify='no',update='yes')\n",
      "iraf.hedit('xtfobj_comb.fits[var,1]', 'CD2_2', delete='yes',\\\n",
      "           verify='no',update='yes')\n",
      "iraf.hedit('xtfobj_comb.fits[var,1]', 'CTYPE2', delete='yes',\\\n",
      "           verify='no',update='yes')\n",
      "iraf.hedit('xtfobj_comb.fits[var,1]', 'LTM2_2', delete='yes',\\\n",
      "           verify='no',update='yes')"
     ],
     "language": "python",
     "metadata": {},
     "outputs": []
    },
    {
     "cell_type": "code",
     "collapsed": false,
     "input": [
      "!splot xtfobj_comb.fits -l quasar -z 0.6190 -y -50 400 --variance 2"
     ],
     "language": "python",
     "metadata": {},
     "outputs": []
    },
    {
     "cell_type": "heading",
     "level": 2,
     "metadata": {},
     "source": [
      "STEP 13: Reduce the telluric standard dataset"
     ]
    },
    {
     "cell_type": "code",
     "collapsed": false,
     "input": [
      "iraf.imdelete('df@tel.lis', verify='no')\n",
      "iraf.nsreduce('f@tel.lis', outprefix='d', fl_cut='no', fl_process_cut='no', \\\n",
      "    fl_dark='yes', darkimage='teldark.fits', fl_sky='no', fl_flat='no')\n",
      "\n",
      "iraf.imdelete('rdf@tel.lis', verify='no')\n",
      "iraf.nsreduce('df@tel.lis', fl_cut='yes', fl_dark='no', fl_sky='yes', \\\n",
      "    fl_flat='yes', flatimage='flat.fits')\n"
     ],
     "language": "python",
     "metadata": {},
     "outputs": []
    },
    {
     "cell_type": "heading",
     "level": 2,
     "metadata": {},
     "source": [
      "STEP 14:  Combine the reduced telluric datasets"
     ]
    },
    {
     "cell_type": "code",
     "collapsed": false,
     "input": [
      "iraf.imdelete('tel_comb.fits', verify='no')\n",
      "iraf.nscombine('rdf@tel.lis', output='tel_comb.fits', fl_shiftint='no', fl_cross='yes')\n",
      "\n",
      "iraf.display('tel_comb.fits[SCI,1]', 1)\n"
     ],
     "language": "python",
     "metadata": {},
     "outputs": []
    },
    {
     "cell_type": "heading",
     "level": 2,
     "metadata": {},
     "source": [
      "STEP 15:  Reduce the telluric arc and determine the wavelength solution"
     ]
    },
    {
     "cell_type": "markdown",
     "metadata": {},
     "source": [
      "The wavelength solution is derived from an arc taken right after the telluric observation, before anything is moved (eg. grating, slit, etc.)\n",
      "\n",
      "We will reduce the arc and calculate the wavelength solution to be applied to the telluric observations.\n",
      "\n",
      "The wavelength solution step really should be done in interactive mode as it is not uncommon to have to reject lines and/or adjust the matches with the line list."
     ]
    },
    {
     "cell_type": "heading",
     "level": 3,
     "metadata": {},
     "source": [
      "Reduce the telluric arc"
     ]
    },
    {
     "cell_type": "code",
     "collapsed": false,
     "input": [
      "# Subtract the dark from the arc images prior to cutting and flat dividing.\n",
      "\n",
      "iraf.imdelete('df@telarc.lis', verify='no')\n",
      "iraf.nsreduce('f@telarc.lis', outprefix='d', fl_cut='no', fl_process_cut='no', \\\n",
      "    fl_dark='yes', darkimage='telarcdark.fits', fl_sky='no', fl_flat='no')\n",
      "\n",
      "# Cut the arc images and divide by the normalised flat field image.\n",
      "\n",
      "iraf.imdelete('rdf@telarc.lis', verify='no')\n",
      "iraf.nsreduce('df@telarc.lis', fl_cut='yes', fl_dark='no', fl_sky='no', fl_flat='yes', \\\n",
      "    flatimage='flat.fits')\n",
      "\n",
      "# Combine the arc files (if there is more than one arc file)\n",
      "\n",
      "iraf.imdelete('telarc.fits', verify='no')\n",
      "iraf.delete('rdftelarc.lis', verify='no')\n",
      "iraf.sections('rdf@telarc.lis//.fits', Stdout='rdftelarc.lis')\n",
      "\n",
      "count = 0\n",
      "file = open('telarc.lis', 'r')\n",
      "for line in file:\n",
      "\tcount += 1\n",
      "\n",
      "if count == 1:\n",
      "\tiraf.copy ('@rdftelarc.lis', 'telarc.fits')\n",
      "else:\n",
      "\tiraf.gemcombine ('@rdftelarc.lis', 'telarc.fits', fl_vardq='yes')\n",
      "\n",
      "file.close()\n",
      "print 'Done'"
     ],
     "language": "python",
     "metadata": {},
     "outputs": []
    },
    {
     "cell_type": "markdown",
     "metadata": {},
     "source": [
      "Record the lxorder and lyorder in the notebook session for future use."
     ]
    },
    {
     "cell_type": "heading",
     "level": 3,
     "metadata": {},
     "source": [
      "Determine the wavelength solution from the science arc"
     ]
    },
    {
     "cell_type": "markdown",
     "metadata": {},
     "source": [
      "Normally, the lines will be identified automatically and this step, while interactive is used to delete a couple outliers and visually confirm that the fit is good.\n",
      "\n",
      "If, for some reason (it can happen), the lines do not get identified automatically and they need to be marked manually, you will need to run the two commands below in the PyRAF sessions since you will need full interactive support.  But most of the time, running this in the notebook works okay."
     ]
    },
    {
     "cell_type": "code",
     "collapsed": false,
     "input": [
      "iraf.imdelete ('wtelarc.fits', verify='no')\n",
      "iraf.nswavelength ('telarc.fits', fl_inter='yes', order=8)\n",
      "\n",
      "# Be very careful when fitting the turnover around 21000.  \n",
      "# There's something not quite right with this solution, but sufficient for quicklook."
     ],
     "language": "python",
     "metadata": {},
     "outputs": []
    },
    {
     "cell_type": "heading",
     "level": 3,
     "metadata": {},
     "source": [
      "Test recovery of a calibrated arc"
     ]
    },
    {
     "cell_type": "markdown",
     "metadata": {},
     "source": [
      "Confirm that applying the wavelength solution to the arc itself recovers a correctly wavelength-calibrated arc.  The key step is **<code>nsfitcoords</code>**.  The default **<code>lxorder</code>** and **<code>lyorder</code>** are both set to 2 which doesn't seem to be correct.  Running **<code>nsfitcoords</code>** interactively on the arc will allow us to discover the best **<code>lxorder</code>** and **<code>lyorder</code>** for this wavelength solution, and use that as a starting point later when using the arc wavelength solution (**<code>warc.fits</code>**) on the telluric and the science."
     ]
    },
    {
     "cell_type": "markdown",
     "metadata": {},
     "source": [
      "Cut and paste these instructions in the PyRAF session that we prepared in Step 0. \n",
      "\n",
      "    iraf.imdelete('farc.fits', verify='no')\n",
      "    iraf.nsfitcoords('arc.fits', lamptransf='warc.fits', fl_inter='yes')\n",
      "    # Note down the xorder and yorder needed for a good fit.  Use\n",
      "    # that whenever warc.fits is used by nsfitcoords.\n",
      "    # :xorder 3, :yorder 8\n",
      "\n",
      "\n",
      "The yorder is probably a bit high, but it definitely removes any trace of a wave pattern..."
     ]
    },
    {
     "cell_type": "markdown",
     "metadata": {},
     "source": [
      "Record the lxorder and lyorder in the notebook session for future use."
     ]
    },
    {
     "cell_type": "code",
     "collapsed": false,
     "input": [
      "lxorder=3 ; lyorder=8"
     ],
     "language": "python",
     "metadata": {},
     "outputs": []
    },
    {
     "cell_type": "code",
     "collapsed": false,
     "input": [
      "iraf.imdelete('tfarc.fits', verify='no')\n",
      "iraf.nstransform('farc.fits')\n",
      "iraf.display('tfarc.fits[sci,1]', 1)"
     ],
     "language": "python",
     "metadata": {},
     "outputs": []
    },
    {
     "cell_type": "code",
     "collapsed": false,
     "input": [
      "# display the first telluric to identify on which column the spectrum falls in\n",
      "# the A position.\n",
      "first_tel = iraf.head('tel.lis', nlines=1, Stdout=1)[0].strip()\n",
      "iraf.display('f'+first_tel+'[1]', 1)"
     ],
     "language": "python",
     "metadata": {},
     "outputs": []
    },
    {
     "cell_type": "code",
     "collapsed": false,
     "input": [
      "# UPDATE POSITION OF TELLURIC\n",
      "# position of the telluric is column 951 (around the center of the frame)\n",
      "iraf.tel_position = 951"
     ],
     "language": "python",
     "metadata": {},
     "outputs": []
    },
    {
     "cell_type": "code",
     "collapsed": false,
     "input": [
      "iraf.splot('tfarc.fits[sci,1]', line=iraf.tel_position, options=\"auto wreset flip\")"
     ],
     "language": "python",
     "metadata": {},
     "outputs": []
    },
    {
     "cell_type": "markdown",
     "metadata": {},
     "source": [
      "Check that the arc lines are at the correct wavelength. Use '<code>k</code>' on each side of the a line to get the centroid. Then compare with the line list and the diagrams.\n",
      "\n",
      "Resource:  \n",
      "    http://www.gemini.edu/sciops/instruments/niri/?q=node/10166\n",
      "\n",
      "The NIRI plots from that webpage work well.\n",
      "\n",
      "*Result: (Kathleen)\n",
      "The arc gets transformed correctly with lxorder=3, lyorder=8.  Just quicklook for now, I have not looked carefully at the blue and red end, and I have not looked for an absolute offset. "
     ]
    },
    {
     "cell_type": "heading",
     "level": 2,
     "metadata": {},
     "source": [
      "STEP 16:  Wavelength calibrate the telluric data"
     ]
    },
    {
     "cell_type": "markdown",
     "metadata": {},
     "source": [
      "Now that an arc is taken with the telluric (circa 2015B), the wavelength calibration of the telluric data should be straight forward."
     ]
    },
    {
     "cell_type": "heading",
     "level": 3,
     "metadata": {},
     "source": [
      "Apply the telluric arc solution"
     ]
    },
    {
     "cell_type": "code",
     "collapsed": false,
     "input": [
      "print 'Using lxorder, lyorder = ', lxorder, lyorder\n",
      "iraf.imdelete('ftel_comb.fits', verify='no')\n",
      "iraf.nsfitcoords('tel_comb.fits', lamptransf='wtelarc.fits', \\\n",
      "                 lxorder=lxorder, lyorder=lyorder)\n",
      "\n",
      "iraf.imdelete ('tftel_comb.fits', verify='no')\n",
      "iraf.nstransform ('ftel_comb.fits')"
     ],
     "language": "python",
     "metadata": {},
     "outputs": []
    },
    {
     "cell_type": "markdown",
     "metadata": {},
     "source": [
      "Check that the spectral features (the hydrogen lines in this case) fall where they are supposed to be.\n",
      "\n",
      "Cut an paste these instructions in the PyRAF session.  (The splot interactive '<code>:</code>'-commands do not work well from the notebook.)\n",
      "\n",
      "    iraf.display ('tftel_comb[sci,1]', 1)\n",
      "    # note on which column the telluric falls\n",
      "    iraf.tel_position = 951\n",
      "    \n",
      "    splot (\"tftel_comb[sci,1]\", line=iraf.tel_position)\n",
      "    # :nsum 30\n",
      "    # Use 'k' on each side of the a line to centroid.\n",
      "    # Compare with atomic line list.\n",
      "\n",
      "Comment here on results of the verification."
     ]
    },
    {
     "cell_type": "heading",
     "level": 2,
     "metadata": {},
     "source": [
      "STEP 17: Extract the telluric spectrum"
     ]
    },
    {
     "cell_type": "markdown",
     "metadata": {},
     "source": [
      "We run <code>nsextract</code> in non-interactive mode since the telluric is quite bright.  (Running it in interactive mode does confirm that the automatic aperture selection is coincident with the telluric spectrum.)"
     ]
    },
    {
     "cell_type": "code",
     "collapsed": false,
     "input": [
      "iraf.imdelete('xtftel_comb.fits', verify='no')\n",
      "iraf.nsextract('tftel_comb.fits', fl_apall='yes', fl_findneg='no', \\\n",
      "    fl_inter='no', fl_trace='yes')\n",
      "\n",
      "iraf.splot ('xtftel_comb.fits[SCI,1]')"
     ],
     "language": "python",
     "metadata": {},
     "outputs": []
    },
    {
     "cell_type": "markdown",
     "metadata": {},
     "source": [
      "**The signal looks good.  The telluric is not saturated.  Should be okay to proceed to a Science Quality reduction now.**\n",
      "\n",
      "This telluric spectrum will be used later.  It will then need to be corrected to remove the stellar features either by fitting Voight profiles on each hydrogen line and removing each feature, or by fitting a stellar model to it."
     ]
    },
    {
     "cell_type": "heading",
     "level": 2,
     "metadata": {},
     "source": [
      "FINAL quicklook spectrum: xtfobj_comb.fits  (not corrected for telluric features)"
     ]
    },
    {
     "cell_type": "heading",
     "level": 2,
     "metadata": {},
     "source": [
      "FINAL quicklook telluric: xtftel_comb.fits"
     ]
    },
    {
     "cell_type": "code",
     "collapsed": false,
     "input": [],
     "language": "python",
     "metadata": {},
     "outputs": []
    }
   ],
   "metadata": {}
  }
 ]
}